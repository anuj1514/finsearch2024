{
 "cells": [
  {
   "cell_type": "code",
   "execution_count": 6,
   "metadata": {},
   "outputs": [],
   "source": [
    "import pandas as pd\n",
    "import numpy as np\n",
    "from scipy.stats import norm"
   ]
  },
  {
   "cell_type": "code",
   "execution_count": 7,
   "metadata": {},
   "outputs": [],
   "source": [
    "def black_scholes_call_option_price(S, K, T, r, sigma):\n",
    "    \n",
    "    # Calculate d1\n",
    "    d1 = (np.log(S / K) + (r + 0.5 * sigma**2) * T) / (sigma * np.sqrt(T))\n",
    "    \n",
    "    # Calculate d2\n",
    "    d2 = d1 - sigma * np.sqrt(T)\n",
    "    \n",
    "    # Calculate the price of the call option\n",
    "    call_price = S * norm.cdf(d1) - K * np.exp(-r * T) * norm.cdf(d2)\n",
    "    \n",
    "    return call_price\n"
   ]
  },
  {
   "cell_type": "code",
   "execution_count": 8,
   "metadata": {},
   "outputs": [],
   "source": [
    "def black_scholes_put_option_price(S, K, T, r, sigma):\n",
    "    \n",
    "    # Calculate d1\n",
    "    d1 = (np.log(S / K) + (r + 0.5 * sigma**2) * T) / (sigma * np.sqrt(T))\n",
    "    \n",
    "    # Calculate d2\n",
    "    d2 = d1 - sigma * np.sqrt(T)\n",
    "    \n",
    "    # Calculate the price of the call option\n",
    "    call_price = -S * norm.cdf(-d1) + K * np.exp(-r * T) * norm.cdf(-d2)\n",
    "    \n",
    "    return call_price"
   ]
  },
  {
   "cell_type": "code",
   "execution_count": 9,
   "metadata": {},
   "outputs": [
    {
     "name": "stdout",
     "output_type": "stream",
     "text": [
      "Black-Scholes call option price: 6.704774819436658\n"
     ]
    }
   ],
   "source": [
    "# Example usage\n",
    "S = 100     # Current price of the underlying asset\n",
    "K = 105     # Strike price of the option\n",
    "T = 1       # Time to expiration (in years)\n",
    "r = 0.02    # Risk-free interest rate\n",
    "sigma = 0.2 # Volatility of the underlying asset\n",
    "\n",
    "call_option_price = black_scholes_call_option_price(S, K, T, r, sigma)\n",
    "print(\"Black-Scholes call option price:\", call_option_price)"
   ]
  },
  {
   "cell_type": "code",
   "execution_count": 10,
   "metadata": {},
   "outputs": [
    {
     "name": "stdout",
     "output_type": "stream",
     "text": [
      "Black-Scholes put option price: 4.732643596263209\n"
     ]
    }
   ],
   "source": [
    "# Example usage\n",
    "S = 100     # Current price of the underlying asset\n",
    "K = 95     # Strike price of the option\n",
    "T = 1       # Time to expiration (in years)\n",
    "r = 0.02    # Risk-free interest rate\n",
    "sigma = 0.2 # Volatility of the underlying asset\n",
    "put_option_price = black_scholes_put_option_price(S, K, T, r, sigma)\n",
    "print(\"Black-Scholes put option price:\", put_option_price)"
   ]
  },
  {
   "cell_type": "code",
   "execution_count": null,
   "metadata": {},
   "outputs": [],
   "source": []
  }
 ],
 "metadata": {
  "kernelspec": {
   "display_name": ".venv",
   "language": "python",
   "name": "python3"
  },
  "language_info": {
   "codemirror_mode": {
    "name": "ipython",
    "version": 3
   },
   "file_extension": ".py",
   "mimetype": "text/x-python",
   "name": "python",
   "nbconvert_exporter": "python",
   "pygments_lexer": "ipython3",
   "version": "3.11.4"
  }
 },
 "nbformat": 4,
 "nbformat_minor": 2
}
